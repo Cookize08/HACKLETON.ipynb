{
  "nbformat": 4,
  "nbformat_minor": 0,
  "metadata": {
    "colab": {
      "provenance": [],
      "authorship_tag": "ABX9TyMO98NCxzfq+Vtm59hlFco+",
      "include_colab_link": true
    },
    "kernelspec": {
      "name": "python3",
      "display_name": "Python 3"
    },
    "language_info": {
      "name": "python"
    }
  },
  "cells": [
    {
      "cell_type": "markdown",
      "metadata": {
        "id": "view-in-github",
        "colab_type": "text"
      },
      "source": [
        "<a href=\"https://colab.research.google.com/github/Cookize08/HACKLETON.ipynb/blob/main/HACKLETON.ipynb\" target=\"_parent\"><img src=\"https://colab.research.google.com/assets/colab-badge.svg\" alt=\"Open In Colab\"/></a>"
      ]
    },
    {
      "cell_type": "markdown",
      "source": [
        "1. Cálculo de Salário com Bônus e Imposto"
      ],
      "metadata": {
        "id": "TCpI0-mYeDGr"
      }
    },
    {
      "cell_type": "code",
      "execution_count": null,
      "metadata": {
        "id": "UtYlvkP1GNCs"
      },
      "outputs": [],
      "source": [
        "sbase = float(input(\"Digite o salário base: \"))\n",
        "vendas = float(input(\"Digite o valor das vendas: \"))\n",
        "\n",
        "bonus = 0.10 * vendas if vendas > 5000 else 0\n",
        "\n",
        "sbruto = sbase + bonus\n",
        "\n",
        "imposto = 0.08 * sbruto\n",
        "\n",
        "sliquido = sbruto - imposto\n",
        "\n",
        "print(f\"Salário líquido: R$ {sliquido:.2f}\")"
      ]
    },
    {
      "cell_type": "markdown",
      "source": [
        "2. Verificação de Triângulo e Classificação"
      ],
      "metadata": {
        "id": "zPy3h0yFeGKj"
      }
    },
    {
      "cell_type": "code",
      "source": [
        "n1 = float(input(\"Digite o primeiro número: \"))\n",
        "n2 = float(input(\"Digite o segundo número: \"))\n",
        "n3 = float(input(\"Digite o terceiro número: \"))\n",
        "\n",
        "if n1 + n2 > n3 and n1 + n3 > n2 and n2 + n3 > n1:\n",
        "    if n1 == n2 == n3:\n",
        "        print(\"É um triângulo equilátero.\")\n",
        "    elif n1 == n2 or n1 == n3 or n2 == n3:\n",
        "        print(\"É um triângulo isósceles.\")\n",
        "    else:\n",
        "      print(\"É um triângulo escaleno.\")\n",
        "else:\n",
        "    print(\"Não é possível formar um triângulo.\")"
      ],
      "metadata": {
        "id": "Zkw1O8nANHCp"
      },
      "execution_count": null,
      "outputs": []
    },
    {
      "cell_type": "markdown",
      "source": [
        "3. Cálculo de Raízes de uma Equação do 2º Grau"
      ],
      "metadata": {
        "id": "yaezdckOeI_K"
      }
    },
    {
      "cell_type": "code",
      "source": [
        "import math\n",
        "\n",
        "def calcular_raizes(a, b, c):\n",
        "    delta = b**2 - 4*a*c\n",
        "    if delta < 0:\n",
        "        return \"Não há raízes reais.\"\n",
        "\n",
        "    x1 = (-b + math.sqrt(delta)) / (2*a)\n",
        "    x2 = (-b - math.sqrt(delta)) / (2*a)\n",
        "\n",
        "    if delta  == 0:\n",
        "      return f\"A equacao tem apenas uma raiz real: x = {x1:.2f}\"\n",
        "    else:\n",
        "      return f\"As raizes sao: x1 = {x1:.2f} e x2 = {x2:.2f}\"\n",
        "\n",
        "c_a = float(input(\"Qual o primeiro coeficiente?: \"))\n",
        "c_b = float(input(\"Qual o segundo coeficiente?: \"))\n",
        "c_c = float(input(\"Qual o terceiro coeficiente?: \"))\n",
        "\n",
        "resultado = calcular_raizes(c_a, c_b, c_c)\n",
        "print(resultado)\n"
      ],
      "metadata": {
        "id": "rpl38xV1NG1W"
      },
      "execution_count": null,
      "outputs": []
    },
    {
      "cell_type": "markdown",
      "source": [
        "4. Cálculo de Desconto Progressivo"
      ],
      "metadata": {
        "id": "frXFIy5ReJzH"
      }
    },
    {
      "cell_type": "code",
      "source": [
        "valor_compra = float(input(\"Digite o valor da compra: \"))\n",
        "if valor_compra <= 100:\n",
        "  desconto = valor_compra * 0.05\n",
        "if valor_compra > 100 and valor_compra <= 500:\n",
        "  desconto = valor_compra * 0.10\n",
        "if valor_compra > 500:\n",
        "  desconto = valor_compra *0.15\n",
        "\n",
        "valor_final = valor_compra - desconto\n",
        "\n",
        "print(f\"Valor da compra: R$ {valor_final:.2f}\")"
      ],
      "metadata": {
        "id": "erBXKGCmTT2a"
      },
      "execution_count": null,
      "outputs": []
    },
    {
      "cell_type": "markdown",
      "source": [
        "5. Validação de Data\n"
      ],
      "metadata": {
        "id": "mtrepcWVeKLw"
      }
    },
    {
      "cell_type": "code",
      "source": [
        "d = int(input(\"Digite o dia: \"))\n",
        "m = int(input(\"Digite o mês: \"))\n",
        "a = int(input(\"Digite o ano: \"))\n",
        "\n",
        "def eh_bissexto(ano):\n",
        "    return (ano % 4 == 0 and ano % 100 != 0) or (ano % 400 == 0)\n",
        "\n",
        "def validar_data(dia, mes, ano):\n",
        "\n",
        "    dias_por_mes = [31, 28, 31, 30, 31, 30, 31, 31, 30, 31, 30, 31]\n",
        "\n",
        "    if mes < 1 or mes > 12:\n",
        "        return \"Data inválida\"\n",
        "\n",
        "    if mes == 2 and eh_bissexto(ano):\n",
        "        dias_por_mes[1] = 29\n",
        "\n",
        "\n",
        "    if dia < 1 or dia > dias_por_mes[mes - 1]:\n",
        "        return \"Data inválida\"\n",
        "\n",
        "    return \"Data válida\"\n",
        "\n",
        "print(validar_data(d, m, a))"
      ],
      "metadata": {
        "id": "RTWbILEsU63X"
      },
      "execution_count": null,
      "outputs": []
    },
    {
      "cell_type": "markdown",
      "source": [
        "6. Cálculo do Salário Líquido com Base nas Tabelas\n",
        "Vigentes de INSS e IRPF"
      ],
      "metadata": {
        "id": "PDSR4Lv9eKjv"
      }
    },
    {
      "cell_type": "code",
      "source": [
        "salario_bruto = float(input(\"Seu salário liquido:\"))\n",
        "def calcular_inss(salario_bruto):\n",
        "    teto_inss = 8157.41\n",
        "    if salario_bruto <= 1518.00:\n",
        "        return salario_bruto * 0.075\n",
        "    elif salario_bruto <= 2793.88:\n",
        "        return (1518.00 * 0.075) + ((salario_bruto - 1518.00) * 0.09)\n",
        "    elif salario_bruto <= 4190.83:\n",
        "        return (1518.00 * 0.075) + ((2793.88 - 1518.00) * 0.09) + ((salario_bruto - 2793.88) * 0.12)\n",
        "    elif salario_bruto <= teto_inss:\n",
        "        return (1518.00 * 0.075) + ((2793.88 - 1518.00) * 0.09) + ((4190.83 - 2793.88) * 0.12) + ((salario_bruto - 4190.83) * 0.14)\n",
        "    else:\n",
        "        return (1518.00 * 0.075) + ((2793.88 - 1518.00) * 0.09) + ((4190.83 - 2793.88) * 0.12) + ((teto_inss - 4190.83) * 0.14)\n",
        "\n",
        "def calcular_irpf(base_calculo_irpf):\n",
        "    if base_calculo_irpf <= 2259.20:\n",
        "        return 0.00\n",
        "    elif base_calculo_irpf <= 3051.48:\n",
        "        return (base_calculo_irpf - 2259.20) * 0.075 - 169.44\n",
        "    elif base_calculo_irpf <= 3856.94:\n",
        "        return (base_calculo_irpf - 3051.48) * 0.15 - 382.12\n",
        "    elif base_calculo_irpf <= 4664.68:\n",
        "        return (base_calculo_irpf - 3856.94) * 0.225 - 651.73\n",
        "    else:\n",
        "        return (base_calculo_irpf - 4664.68) * 0.275 - 884.96\n",
        "\n",
        "def calcular_salario_liquido(salario_bruto):\n",
        "    inss = calcular_inss(salario_bruto)\n",
        "\n",
        "    base_calculo_irpf = salario_bruto - inss\n",
        "\n",
        "    irpf = calcular_irpf(base_calculo_irpf)\n",
        "\n",
        "    salario_liquido = salario_bruto - inss - irpf\n",
        "    return salario_liquido\n",
        "\n",
        "salario_liquido = calcular_salario_liquido(salario_bruto)\n",
        "\n",
        "print(f\"O salário líquido após os descontos de INSS e IRPF é: R$ {salario_liquido:.2f}\")"
      ],
      "metadata": {
        "id": "YIj9p4KRbQI9"
      },
      "execution_count": null,
      "outputs": []
    },
    {
      "cell_type": "markdown",
      "source": [
        "**Aluno:Vinicios França de Oliveira**"
      ],
      "metadata": {
        "id": "vKzqxBkjjlAB"
      }
    }
  ]
}